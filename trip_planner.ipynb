{
  "nbformat": 4,
  "nbformat_minor": 0,
  "metadata": {
    "colab": {
      "name": "trip_planner.ipynb",
      "provenance": [],
      "collapsed_sections": [],
      "authorship_tag": "ABX9TyMXjSSGbt6HgD3vD/46UJth",
      "include_colab_link": true
    },
    "kernelspec": {
      "name": "python3",
      "display_name": "Python 3"
    }
  },
  "cells": [
    {
      "cell_type": "markdown",
      "metadata": {
        "id": "view-in-github",
        "colab_type": "text"
      },
      "source": [
        "<a href=\"https://colab.research.google.com/github/theHarshul/OptTripItin/blob/main/trip_planner.ipynb\" target=\"_parent\"><img src=\"https://colab.research.google.com/assets/colab-badge.svg\" alt=\"Open In Colab\"/></a>"
      ]
    },
    {
      "cell_type": "code",
      "metadata": {
        "id": "DlDMEmDsrx6U",
        "outputId": "662cd1ec-0aa4-4381-ea2b-116e41825474",
        "colab": {
          "base_uri": "https://localhost:8080/",
          "height": 51
        }
      },
      "source": [
        "pip install geopy"
      ],
      "execution_count": null,
      "outputs": [
        {
          "output_type": "stream",
          "text": [
            "Requirement already satisfied: geopy in /usr/local/lib/python3.6/dist-packages (1.17.0)\n",
            "Requirement already satisfied: geographiclib<2,>=1.49 in /usr/local/lib/python3.6/dist-packages (from geopy) (1.50)\n"
          ],
          "name": "stdout"
        }
      ]
    },
    {
      "cell_type": "code",
      "metadata": {
        "id": "K_NL9gWOaO3F",
        "outputId": "93d9f1b3-98e9-45c5-b8c8-751a49148c0b",
        "colab": {
          "base_uri": "https://localhost:8080/",
          "height": 85
        }
      },
      "source": [
        "pip install ortools"
      ],
      "execution_count": null,
      "outputs": [
        {
          "output_type": "stream",
          "text": [
            "Requirement already satisfied: ortools in /usr/local/lib/python3.6/dist-packages (7.7.7810)\n",
            "Requirement already satisfied: six>=1.10 in /usr/local/lib/python3.6/dist-packages (from ortools) (1.12.0)\n",
            "Requirement already satisfied: protobuf>=3.12.2 in /usr/local/lib/python3.6/dist-packages (from ortools) (3.12.2)\n",
            "Requirement already satisfied: setuptools in /usr/local/lib/python3.6/dist-packages (from protobuf>=3.12.2->ortools) (47.3.1)\n"
          ],
          "name": "stdout"
        }
      ]
    },
    {
      "cell_type": "code",
      "metadata": {
        "id": "elCYc71sHo9W"
      },
      "source": [
        "import math\n",
        "import pandas as pd\n",
        "import numpy as np\n",
        "import requests, json \n",
        "import matplotlib.pyplot as plt\n",
        "from functools import reduce\n",
        "from geopy import distance\n",
        "from geopy.geocoders import Nominatim\n",
        "from enum import Enum\n",
        "from sklearn.cluster import KMeans\n",
        "from sklearn.cluster._kmeans import _init_centroids # Using to initialize centroids for customized KMeans assignment\n",
        "from ortools.constraint_solver import routing_enums_pb2\n",
        "from ortools.constraint_solver import pywrapcp\n",
        "from ortools.linear_solver import pywraplp"
      ],
      "execution_count": null,
      "outputs": []
    },
    {
      "cell_type": "code",
      "metadata": {
        "id": "bv8Wd2UsEVY4"
      },
      "source": [
        "def round_up_to_base(f,base):\n",
        "    return math.ceil(f / base) * base\n",
        "def Average(lst): \n",
        "    return reduce(lambda a, b: a + b, lst) / len(lst) "
      ],
      "execution_count": null,
      "outputs": []
    },
    {
      "cell_type": "code",
      "metadata": {
        "id": "HNP6UegJnHg1"
      },
      "source": [
        "class Trip:\n",
        "\n",
        "  def __init__(self, start_names, location_names):\n",
        "    self.start_names = start_names       \n",
        "    self.location_names = location_names \n",
        "    self.all_loc_names = self.start_names + self.location_names\n",
        "    self.duration = len(start_names)\n",
        "\n",
        "  def has_single_start_location(self):\n",
        "    return all(loc == self.start_names[0] for loc in self.start_names)\n",
        "\n",
        "  def get_num_unique_starting_locations(self):\n",
        "    return len(set(start_names))\n",
        "\n",
        "  def is_single_day_travel(self):\n",
        "    return len(current_trip.start_names)==1\n",
        "\n",
        "  def geocode_locations(self):\n",
        "    locator = Nominatim(user_agent='h')\n",
        "    self.locations = [locator.geocode(names) for names in self.all_loc_names]\n",
        "\n"
      ],
      "execution_count": null,
      "outputs": []
    },
    {
      "cell_type": "code",
      "metadata": {
        "id": "JOyJzzhQ6K2W"
      },
      "source": [
        "JAPAN=Trip(('Kyoto Century Hotel','Hotel Monterey Kyoto'),('Fushimi Inari Taisha', 'Giouji Temple, Kyoto', 'Kurumazaki Shrine', 'Nishiki Market','Tenryuji temple','Gion','Kiyomizu-dera','Ryōan-ji','Pontocho alley','Kyoto Imperial Palace','Kyoto International Manga Museum','Kinkaku-ji','Tetsugaku No Michi'))\n",
        "JAPAN_TEST=Trip(('Kyoto Century Hotel',),('Fushimi Inari Taisha', 'Giouji Temple, Kyoto', 'Kurumazaki Shrine', 'Nishiki Market','Tenryuji temple','Gion','Kiyomizu-dera','Ryōan-ji','Pontocho alley'))\n",
        "\n",
        "LA=Trip(('The Beverly Hills Hotel','The Beverly Hills Hotel'),('Malibu Pier','Universal Studios Hollywood','Griffith Observatory, Los Angeles', 'The Getty, Los Angeles', 'Santa Monica Pier', 'Hollywood Walk of Fame', '6333 W 3rd St, Los Angeles', '1351 3rd Street Promenade, Santa Monica', 'Los Angeles County Museum of Art'))\n",
        "LA_ALT=Trip(('Four Seasons Hotel Westlake Village','The Beverly Hills Hotel'),('Malibu Pier','Universal Studios Hollywood','Griffith Observatory, Los Angeles', 'The Getty, Los Angeles', 'Santa Monica Pier', 'Hollywood Walk of Fame', '6333 W 3rd St, Los Angeles', '1351 3rd Street Promenade, Santa Monica', 'Los Angeles County Museum of Art'))\n",
        "LA_ALT_2 = Trip(('Four Seasons Hotel Westlake Village','The Beverly Hills Hotel','Hilton Universal City'),('Malibu Pier','Universal Studios Hollywood','Griffith Observatory, Los Angeles', 'The Getty, Los Angeles', 'Santa Monica Pier', 'Hollywood Walk of Fame', '6333 W 3rd St, Los Angeles', '1351 3rd Street Promenade, Santa Monica', 'Los Angeles County Museum of Art'))\n"
      ],
      "execution_count": null,
      "outputs": []
    },
    {
      "cell_type": "code",
      "metadata": {
        "id": "Vcx6otaUGMoQ"
      },
      "source": [
        "current_trip = LA\n",
        "current_trip.geocode_locations()"
      ],
      "execution_count": null,
      "outputs": []
    },
    {
      "cell_type": "code",
      "metadata": {
        "id": "Vyljh4j3Jo81",
        "outputId": "101798cb-93ec-43c0-b788-36d3a3568323",
        "colab": {
          "base_uri": "https://localhost:8080/",
          "height": 390
        }
      },
      "source": [
        "d = {'Location': [locationName for locationName in current_trip.all_loc_names], 'Latitude': [location.latitude for location in current_trip.locations], 'Longitude': [location.longitude for location in current_trip.locations] }\n",
        "df = pd.DataFrame(data=d)\n",
        "df"
      ],
      "execution_count": null,
      "outputs": [
        {
          "output_type": "execute_result",
          "data": {
            "text/html": [
              "<div>\n",
              "<style scoped>\n",
              "    .dataframe tbody tr th:only-of-type {\n",
              "        vertical-align: middle;\n",
              "    }\n",
              "\n",
              "    .dataframe tbody tr th {\n",
              "        vertical-align: top;\n",
              "    }\n",
              "\n",
              "    .dataframe thead th {\n",
              "        text-align: right;\n",
              "    }\n",
              "</style>\n",
              "<table border=\"1\" class=\"dataframe\">\n",
              "  <thead>\n",
              "    <tr style=\"text-align: right;\">\n",
              "      <th></th>\n",
              "      <th>Location</th>\n",
              "      <th>Latitude</th>\n",
              "      <th>Longitude</th>\n",
              "    </tr>\n",
              "  </thead>\n",
              "  <tbody>\n",
              "    <tr>\n",
              "      <th>0</th>\n",
              "      <td>The Beverly Hills Hotel</td>\n",
              "      <td>34.081766</td>\n",
              "      <td>-118.414693</td>\n",
              "    </tr>\n",
              "    <tr>\n",
              "      <th>1</th>\n",
              "      <td>The Beverly Hills Hotel</td>\n",
              "      <td>34.081766</td>\n",
              "      <td>-118.414693</td>\n",
              "    </tr>\n",
              "    <tr>\n",
              "      <th>2</th>\n",
              "      <td>Malibu Pier</td>\n",
              "      <td>34.036434</td>\n",
              "      <td>-118.676138</td>\n",
              "    </tr>\n",
              "    <tr>\n",
              "      <th>3</th>\n",
              "      <td>Universal Studios Hollywood</td>\n",
              "      <td>34.139136</td>\n",
              "      <td>-118.354277</td>\n",
              "    </tr>\n",
              "    <tr>\n",
              "      <th>4</th>\n",
              "      <td>Griffith Observatory, Los Angeles</td>\n",
              "      <td>34.118219</td>\n",
              "      <td>-118.300293</td>\n",
              "    </tr>\n",
              "    <tr>\n",
              "      <th>5</th>\n",
              "      <td>The Getty, Los Angeles</td>\n",
              "      <td>34.077017</td>\n",
              "      <td>-118.474010</td>\n",
              "    </tr>\n",
              "    <tr>\n",
              "      <th>6</th>\n",
              "      <td>Santa Monica Pier</td>\n",
              "      <td>34.008896</td>\n",
              "      <td>-118.497402</td>\n",
              "    </tr>\n",
              "    <tr>\n",
              "      <th>7</th>\n",
              "      <td>Hollywood Walk of Fame</td>\n",
              "      <td>34.101662</td>\n",
              "      <td>-118.341848</td>\n",
              "    </tr>\n",
              "    <tr>\n",
              "      <th>8</th>\n",
              "      <td>6333 W 3rd St, Los Angeles</td>\n",
              "      <td>34.071947</td>\n",
              "      <td>-118.360246</td>\n",
              "    </tr>\n",
              "    <tr>\n",
              "      <th>9</th>\n",
              "      <td>1351 3rd Street Promenade, Santa Monica</td>\n",
              "      <td>34.016998</td>\n",
              "      <td>-118.497653</td>\n",
              "    </tr>\n",
              "    <tr>\n",
              "      <th>10</th>\n",
              "      <td>Los Angeles County Museum of Art</td>\n",
              "      <td>34.063684</td>\n",
              "      <td>-118.359126</td>\n",
              "    </tr>\n",
              "  </tbody>\n",
              "</table>\n",
              "</div>"
            ],
            "text/plain": [
              "                                   Location   Latitude   Longitude\n",
              "0                   The Beverly Hills Hotel  34.081766 -118.414693\n",
              "1                   The Beverly Hills Hotel  34.081766 -118.414693\n",
              "2                               Malibu Pier  34.036434 -118.676138\n",
              "3               Universal Studios Hollywood  34.139136 -118.354277\n",
              "4         Griffith Observatory, Los Angeles  34.118219 -118.300293\n",
              "5                    The Getty, Los Angeles  34.077017 -118.474010\n",
              "6                         Santa Monica Pier  34.008896 -118.497402\n",
              "7                    Hollywood Walk of Fame  34.101662 -118.341848\n",
              "8                6333 W 3rd St, Los Angeles  34.071947 -118.360246\n",
              "9   1351 3rd Street Promenade, Santa Monica  34.016998 -118.497653\n",
              "10         Los Angeles County Museum of Art  34.063684 -118.359126"
            ]
          },
          "metadata": {
            "tags": []
          },
          "execution_count": 32
        }
      ]
    },
    {
      "cell_type": "code",
      "metadata": {
        "id": "h-7GxnxADmww"
      },
      "source": [
        "def plot_assignment(trip,assignment=None,centroids=None):\n",
        "  fig = plt.figure()\n",
        "  fig.set_size_inches(30, 15)\n",
        "  lon = list(map(lambda loc: loc.latitude, trip.locations))\n",
        "  lat = list(map(lambda loc: loc.longitude, trip.locations))\n",
        "  plt.scatter(lon, lat, c=assignment)\n",
        "  for x,y,label in zip(lon,lat, trip.all_loc_names):\n",
        "\n",
        "    plt.annotate(label, # this is the text\n",
        "                  (x,y), # this is the point to label\n",
        "                  textcoords=\"offset points\", # how to position the text\n",
        "                  xytext=(0,10), # distance from text to points (x,y)\n",
        "                  ha='center') # horizontal alignment can be left, right or center\n",
        "  \n",
        "  if centroids is not None:\n",
        "    for i in range(len(centroids)):\n",
        "      plt.scatter(centroids[i][0], centroids[i][1])\n",
        "      plt.annotate(\"MEAN \" + str(i), # this is the text\n",
        "                  (centroids[i][0], centroids[i][1]), # this is the point to label\n",
        "                  textcoords=\"offset points\", # how to position the text\n",
        "                  xytext=(0,10), # distance from text to points (x,y)\n",
        "                  ha='center') # horizontal alignment can be left, right or center\n",
        "  fig.show()"
      ],
      "execution_count": null,
      "outputs": []
    },
    {
      "cell_type": "code",
      "metadata": {
        "id": "YTUIFyUq9_1G",
        "outputId": "0f4bd681-b047-4643-90b3-c4f3eda577e3",
        "colab": {
          "base_uri": "https://localhost:8080/",
          "height": 659
        }
      },
      "source": [
        "plot_assignment(current_trip)"
      ],
      "execution_count": null,
      "outputs": [
        {
          "output_type": "display_data",
          "data": {
            "image/png": "[encoded data removed]",
            "text/plain": [
              "<Figure size 2160x1080 with 1 Axes>"
            ]
          },
          "metadata": {
            "tags": [],
            "needs_background": "light"
          }
        }
      ]
    },
    {
      "cell_type": "code",
      "metadata": {
        "id": "Dx13Mpz19Su9"
      },
      "source": [
        "def initialize_centroids(arr,num_centroids):\n",
        "  #return [(df.iloc[i]['Latitude'],df.iloc[i]['Longitude']) for i in range(num_centroids)]\n",
        "  return _init_centroids(arr, num_centroids, \"k-means++\")"
      ],
      "execution_count": null,
      "outputs": []
    },
    {
      "cell_type": "code",
      "metadata": {
        "id": "KIti-jvNpWAS"
      },
      "source": [
        "def distance_to_centroids(coords, num_centroids):\n",
        "  cluster_dists = [[] for i in range(num_centroids)]\n",
        "  # Compute distances from each example to each centroid\n",
        "  for x,y in zip(coords[0],coords[1]):\n",
        "    for i in range(num_centroids):\n",
        "      cluster_dists[i].append(distance.distance((x,y),centers[i]).miles)\n",
        "  return cluster_dists"
      ],
      "execution_count": null,
      "outputs": []
    },
    {
      "cell_type": "code",
      "metadata": {
        "id": "rQLiWFHOr0KC"
      },
      "source": [
        "def construct_bipartite_graph(num_examples, num_centroids, num_clusters, cluster_dists):\n",
        "  # Create bipartite graph in the form of a 2D matrix, where M[i][j] represents the weight (distance) of the edge of example i to centroid j\n",
        "  # Each example will be assigned to one centroid such that there is an even number of assignments for each cluster \n",
        "\n",
        "  # The number of clusters will be a rounded up multiple of the number of examples. \n",
        "  # E.g. if we had 9 examples with 2 centroids and 9 potential matching cluster centers on the right side of the graph, we would have 4 examples assigned to each cluster. We would still have one remaining example which would automatically be assigned to the last cluster center. To have an even opportunity to optimize distance to all clusters, we would need another cluster center so 10 potential matching clusters.\n",
        "  M = np.zeros((num_examples,num_clusters))\n",
        "  for i in range(num_examples):\n",
        "    for j in range(0,num_clusters,num_centroids):\n",
        "      for k in range(num_centroids):\n",
        "        if j + k >= M.shape[1]:\n",
        "          break\n",
        "        M[i][j+k] = cluster_dists[k][i]\n",
        "  return M      "
      ],
      "execution_count": null,
      "outputs": []
    },
    {
      "cell_type": "code",
      "metadata": {
        "id": "0vQJy2Jnt31G"
      },
      "source": [
        "def setup_mixed_integer_program(M,num_examples,num_clusters,num_centroids):\n",
        "  x = {}\n",
        "  solver = pywraplp.Solver('SolveAssignmentProblemMIP',\n",
        "                            pywraplp.Solver.CBC_MIXED_INTEGER_PROGRAMMING)\n",
        "  print(num_clusters)\n",
        "  for i in range(num_examples):\n",
        "    for j in range(num_clusters):\n",
        "      x[i, j] = solver.BoolVar('x[%i,%i]' % (i, j))\n",
        "  solver.Minimize(solver.Sum([M[i][j] * x[i,j] for i in range(num_examples)\n",
        "                                                    for j in range(num_clusters)]))\n",
        "  # Each example is assigned to at most 1 cluster.\n",
        "  for i in range(num_examples):\n",
        "    solver.Add(solver.Sum([x[i, j] for j in range(num_clusters)]) == 1)\n",
        "\n",
        "  # Each cluster is assigned to at most 1 example.\n",
        "  for j in range(num_clusters):\n",
        "    solver.Add(solver.Sum([x[i, j] for i in range(num_examples)]) <= 1)\n",
        "\n",
        "  # Constraint that starting points cannot be in the same cluster\n",
        "  for i in range(num_centroids):\n",
        "    solver.Add(solver.Sum([x[i, j] for j in range(i,num_clusters,num_centroids) for i in range(num_centroids)]) <= 1)\n",
        "\n",
        "  return x,solver"
      ],
      "execution_count": null,
      "outputs": []
    },
    {
      "cell_type": "code",
      "metadata": {
        "id": "sVbaLnQt9rTV"
      },
      "source": [
        "def cluster_assignment(lat_lngs,centroids,num_examples):\n",
        "  num_centroids = len(centroids)\n",
        "  \n",
        "  cluster_dists = distance_to_centroids(lat_lngs, num_centroids=num_centroids)\n",
        "\n",
        "  num_clusters = round_up_to_base(num_examples,num_centroids)\n",
        "  M = construct_bipartite_graph(num_examples,num_centroids,num_clusters,cluster_dists)\n",
        "\n",
        "  # Create a Mixed Integer Program with constraints to minimize the total distance for each example from it's assigned centroid \n",
        "  x,solver = setup_mixed_integer_program(M,num_examples,num_clusters,num_centroids)\n",
        "\n",
        "  sol = solver.Solve()\n",
        "  print('Total cost = ', solver.Objective().Value())\n",
        "  print()\n",
        "  assignment=[]\n",
        "  for i in range(num_examples):\n",
        "    for j in range(num_clusters):\n",
        "      if x[i, j].solution_value() > 0:\n",
        "        assignment.append(j%num_centroids)\n",
        "        print('Location %d assigned to cluster %d.  Cost = %f' % (\n",
        "              i,\n",
        "              j,\n",
        "              M[i][j]))\n",
        "\n",
        "  print()\n",
        "  print(\"Time = \", solver.WallTime(), \" milliseconds\")\n",
        "  \n",
        "  return assignment, solver.Objective().Value()\n"
      ],
      "execution_count": null,
      "outputs": []
    },
    {
      "cell_type": "code",
      "metadata": {
        "id": "eCUKq_a_GTX5"
      },
      "source": [
        "def compute_updated_centroids(lat_lngs, assignment, num_centroids):\n",
        "  assigned_examples = [[] for i in range(num_centroids)]\n",
        "  for x,y,i in zip(lat_lngs[0],lat_lngs[1],assignment):\n",
        "    assigned_examples[i].append((x,y))\n",
        "\n",
        "  updated_centroids = list(map(lambda x: (Average([a_tuple[0] for a_tuple in x]), Average([a_tuple[1] for a_tuple in x])), assigned_examples))\n",
        "  return updated_centroids\n"
      ],
      "execution_count": null,
      "outputs": []
    },
    {
      "cell_type": "code",
      "metadata": {
        "id": "fra9YIFH_vBM",
        "outputId": "74fdedaf-b709-4c6c-a701-8b9a3b4baf4c",
        "colab": {
          "base_uri": "https://localhost:8080/",
          "height": 1000
        }
      },
      "source": [
        "previous_centers = None\n",
        "min_cost = math.inf\n",
        "opt_assignment = None\n",
        "opt_centroids = None\n",
        "\n",
        "num_examples = df.shape[0]\n",
        "lat_lng_arr = df[['Latitude','Longitude']].values\n",
        "lat_lng_tuple = (df['Latitude'],df['Longitude'])\n",
        "\n",
        "for _ in range(10):\n",
        "  if current_trip.is_single_day_travel():\n",
        "    opt_assignment = [0] * len(lat_lng_arr)\n",
        "    break\n",
        "  centers = initialize_centroids(arr=lat_lng_arr,num_centroids=current_trip.duration)\n",
        "  for _ in range(300):\n",
        "    assignment, cost = cluster_assignment(lat_lng_tuple,centroids=centers,num_examples=num_examples)\n",
        "    updated_centers = compute_updated_centroids(lat_lng_tuple,assignment = assignment, num_centroids = current_trip.duration)\n",
        "    previous_centers = centers\n",
        "    if np.array_equal(centers,updated_centers):\n",
        "      print(\"found optimal centroids, cost = \" + str(min_cost))\n",
        "      if min_cost>cost:\n",
        "        min_cost = cost\n",
        "        opt_assignment = assignment\n",
        "        opt_centroids = centers\n",
        "      break\n",
        "    else:\n",
        "      centers = updated_centers\n",
        "if not current_trip.is_single_day_travel():\n",
        "  plot_assignment(current_trip,assignment=opt_assignment, centroids=opt_centroids)"
      ],
      "execution_count": null,
      "outputs": [
        {
          "output_type": "stream",
          "text": [
            "12\n",
            "Total cost =  63.41515094855896\n",
            "\n",
            "Location 0 assigned to cluster 0.  Cost = 3.195218\n",
            "Location 1 assigned to cluster 7.  Cost = 15.319916\n",
            "Location 2 assigned to cluster 5.  Cost = 0.000000\n",
            "Location 3 assigned to cluster 4.  Cost = 4.643678\n",
            "Location 4 assigned to cluster 6.  Cost = 4.689336\n",
            "Location 5 assigned to cluster 9.  Cost = 11.928107\n",
            "Location 6 assigned to cluster 11.  Cost = 10.431797\n",
            "Location 7 assigned to cluster 2.  Cost = 2.303932\n",
            "Location 8 assigned to cluster 8.  Cost = 0.000000\n",
            "Location 9 assigned to cluster 1.  Cost = 10.330018\n",
            "Location 10 assigned to cluster 10.  Cost = 0.573149\n",
            "\n",
            "Time =  10  milliseconds\n",
            "12\n",
            "Total cost =  38.15105103720996\n",
            "\n",
            "Location 0 assigned to cluster 0.  Cost = 3.557816\n",
            "Location 1 assigned to cluster 3.  Cost = 6.151364\n",
            "Location 2 assigned to cluster 5.  Cost = 9.434416\n",
            "Location 3 assigned to cluster 4.  Cost = 2.968793\n",
            "Location 4 assigned to cluster 6.  Cost = 3.492484\n",
            "Location 5 assigned to cluster 9.  Cost = 3.138995\n",
            "Location 6 assigned to cluster 11.  Cost = 2.574528\n",
            "Location 7 assigned to cluster 2.  Cost = 0.851080\n",
            "Location 8 assigned to cluster 8.  Cost = 1.688799\n",
            "Location 9 assigned to cluster 1.  Cost = 2.048596\n",
            "Location 10 assigned to cluster 10.  Cost = 2.244181\n",
            "\n",
            "Time =  10  milliseconds\n",
            "found optimal centroids, cost = inf\n",
            "12\n",
            "Total cost =  39.8364639963415\n",
            "\n",
            "Location 0 assigned to cluster 0.  Cost = 6.909731\n",
            "Location 1 assigned to cluster 3.  Cost = 3.422119\n",
            "Location 2 assigned to cluster 8.  Cost = 10.431797\n",
            "Location 3 assigned to cluster 1.  Cost = 5.208016\n",
            "Location 4 assigned to cluster 5.  Cost = 5.050826\n",
            "Location 5 assigned to cluster 4.  Cost = 4.883252\n",
            "Location 6 assigned to cluster 10.  Cost = 0.000000\n",
            "Location 7 assigned to cluster 9.  Cost = 2.798961\n",
            "Location 8 assigned to cluster 11.  Cost = 0.573149\n",
            "Location 9 assigned to cluster 2.  Cost = 0.558612\n",
            "Location 10 assigned to cluster 7.  Cost = 0.000000\n",
            "\n",
            "Time =  9  milliseconds\n",
            "12\n",
            "Total cost =  38.15105103720996\n",
            "\n",
            "Location 0 assigned to cluster 0.  Cost = 6.151364\n",
            "Location 1 assigned to cluster 3.  Cost = 3.557816\n",
            "Location 2 assigned to cluster 8.  Cost = 9.434416\n",
            "Location 3 assigned to cluster 1.  Cost = 2.968793\n",
            "Location 4 assigned to cluster 5.  Cost = 3.492484\n",
            "Location 5 assigned to cluster 4.  Cost = 3.138995\n",
            "Location 6 assigned to cluster 10.  Cost = 2.574528\n",
            "Location 7 assigned to cluster 7.  Cost = 0.851080\n",
            "Location 8 assigned to cluster 11.  Cost = 1.688799\n",
            "Location 9 assigned to cluster 2.  Cost = 2.048596\n",
            "Location 10 assigned to cluster 9.  Cost = 2.244181\n",
            "\n",
            "Time =  11  milliseconds\n",
            "found optimal centroids, cost = 38.15105103720996\n",
            "12\n",
            "Total cost =  53.36363093431308\n",
            "\n",
            "Location 0 assigned to cluster 0.  Cost = 0.000000\n",
            "Location 1 assigned to cluster 3.  Cost = 7.024185\n",
            "Location 2 assigned to cluster 8.  Cost = 15.319916\n",
            "Location 3 assigned to cluster 5.  Cost = 3.413679\n",
            "Location 4 assigned to cluster 1.  Cost = 0.000000\n",
            "Location 5 assigned to cluster 4.  Cost = 3.417640\n",
            "Location 6 assigned to cluster 6.  Cost = 6.909731\n",
            "Location 7 assigned to cluster 9.  Cost = 2.641576\n",
            "Location 8 assigned to cluster 11.  Cost = 4.689336\n",
            "Location 9 assigned to cluster 2.  Cost = 6.525449\n",
            "Location 10 assigned to cluster 10.  Cost = 3.422119\n",
            "\n",
            "Time =  10  milliseconds\n",
            "12\n",
            "Total cost =  37.83555078039452\n",
            "\n",
            "Location 0 assigned to cluster 0.  Cost = 4.749391\n",
            "Location 1 assigned to cluster 3.  Cost = 3.749142\n",
            "Location 2 assigned to cluster 8.  Cost = 10.907196\n",
            "Location 3 assigned to cluster 1.  Cost = 2.522003\n",
            "Location 4 assigned to cluster 5.  Cost = 3.277745\n",
            "Location 5 assigned to cluster 4.  Cost = 2.159208\n",
            "Location 6 assigned to cluster 10.  Cost = 2.730966\n",
            "Location 7 assigned to cluster 7.  Cost = 0.714927\n",
            "Location 8 assigned to cluster 11.  Cost = 2.136696\n",
            "Location 9 assigned to cluster 2.  Cost = 2.195259\n",
            "Location 10 assigned to cluster 9.  Cost = 2.693017\n",
            "\n",
            "Time =  14  milliseconds\n",
            "12\n",
            "Total cost =  38.15105103720996\n",
            "\n",
            "Location 0 assigned to cluster 0.  Cost = 6.151364\n",
            "Location 1 assigned to cluster 3.  Cost = 3.557816\n",
            "Location 2 assigned to cluster 8.  Cost = 9.434416\n",
            "Location 3 assigned to cluster 1.  Cost = 2.968793\n",
            "Location 4 assigned to cluster 5.  Cost = 3.492484\n",
            "Location 5 assigned to cluster 4.  Cost = 3.138995\n",
            "Location 6 assigned to cluster 10.  Cost = 2.574528\n",
            "Location 7 assigned to cluster 7.  Cost = 0.851080\n",
            "Location 8 assigned to cluster 11.  Cost = 1.688799\n",
            "Location 9 assigned to cluster 2.  Cost = 2.048596\n",
            "Location 10 assigned to cluster 9.  Cost = 2.244181\n",
            "\n",
            "Time =  10  milliseconds\n",
            "found optimal centroids, cost = 38.15105103720996\n",
            "12\n",
            "Total cost =  45.60299397455997\n",
            "\n",
            "Location 0 assigned to cluster 0.  Cost = 6.909731\n",
            "Location 1 assigned to cluster 3.  Cost = 7.024185\n",
            "Location 2 assigned to cluster 8.  Cost = 10.431797\n",
            "Location 3 assigned to cluster 5.  Cost = 3.413679\n",
            "Location 4 assigned to cluster 1.  Cost = 0.000000\n",
            "Location 5 assigned to cluster 4.  Cost = 4.883252\n",
            "Location 6 assigned to cluster 10.  Cost = 0.000000\n",
            "Location 7 assigned to cluster 7.  Cost = 2.641576\n",
            "Location 8 assigned to cluster 11.  Cost = 4.689336\n",
            "Location 9 assigned to cluster 2.  Cost = 0.558612\n",
            "Location 10 assigned to cluster 9.  Cost = 5.050826\n",
            "\n",
            "Time =  9  milliseconds\n",
            "12\n",
            "Total cost =  38.15105103720996\n",
            "\n",
            "Location 0 assigned to cluster 0.  Cost = 6.151364\n",
            "Location 1 assigned to cluster 3.  Cost = 3.557816\n",
            "Location 2 assigned to cluster 8.  Cost = 9.434416\n",
            "Location 3 assigned to cluster 1.  Cost = 2.968793\n",
            "Location 4 assigned to cluster 5.  Cost = 3.492484\n",
            "Location 5 assigned to cluster 4.  Cost = 3.138995\n",
            "Location 6 assigned to cluster 10.  Cost = 2.574528\n",
            "Location 7 assigned to cluster 7.  Cost = 0.851080\n",
            "Location 8 assigned to cluster 11.  Cost = 1.688799\n",
            "Location 9 assigned to cluster 2.  Cost = 2.048596\n",
            "Location 10 assigned to cluster 9.  Cost = 2.244181\n",
            "\n",
            "Time =  10  milliseconds\n",
            "found optimal centroids, cost = 38.15105103720996\n",
            "12\n",
            "Total cost =  43.9849103986555\n",
            "\n",
            "Location 0 assigned to cluster 0.  Cost = 5.256770\n",
            "Location 1 assigned to cluster 3.  Cost = 6.909731\n",
            "Location 2 assigned to cluster 5.  Cost = 10.431797\n",
            "Location 3 assigned to cluster 4.  Cost = 0.000000\n",
            "Location 4 assigned to cluster 6.  Cost = 3.413679\n",
            "Location 5 assigned to cluster 9.  Cost = 4.883252\n",
            "Location 6 assigned to cluster 11.  Cost = 0.000000\n",
            "Location 7 assigned to cluster 2.  Cost = 2.679375\n",
            "Location 8 assigned to cluster 8.  Cost = 4.643678\n",
            "Location 9 assigned to cluster 1.  Cost = 0.558612\n",
            "Location 10 assigned to cluster 10.  Cost = 5.208016\n",
            "\n",
            "Time =  12  milliseconds\n",
            "12\n",
            "Total cost =  38.15105103720996\n",
            "\n",
            "Location 0 assigned to cluster 0.  Cost = 3.557816\n",
            "Location 1 assigned to cluster 3.  Cost = 6.151364\n",
            "Location 2 assigned to cluster 5.  Cost = 9.434416\n",
            "Location 3 assigned to cluster 4.  Cost = 2.968793\n",
            "Location 4 assigned to cluster 6.  Cost = 3.492484\n",
            "Location 5 assigned to cluster 9.  Cost = 3.138995\n",
            "Location 6 assigned to cluster 11.  Cost = 2.574528\n",
            "Location 7 assigned to cluster 2.  Cost = 0.851080\n",
            "Location 8 assigned to cluster 8.  Cost = 1.688799\n",
            "Location 9 assigned to cluster 1.  Cost = 2.048596\n",
            "Location 10 assigned to cluster 10.  Cost = 2.244181\n",
            "\n",
            "Time =  10  milliseconds\n",
            "found optimal centroids, cost = 38.15105103720996\n",
            "12\n",
            "Total cost =  71.30468723760626\n",
            "\n",
            "Location 0 assigned to cluster 10.  Cost = 15.319916\n",
            "Location 1 assigned to cluster 7.  Cost = 0.000000\n",
            "Location 2 assigned to cluster 8.  Cost = 0.000000\n",
            "Location 3 assigned to cluster 1.  Cost = 5.256770\n",
            "Location 4 assigned to cluster 5.  Cost = 7.024185\n",
            "Location 5 assigned to cluster 4.  Cost = 11.928107\n",
            "Location 6 assigned to cluster 2.  Cost = 10.431797\n",
            "Location 7 assigned to cluster 9.  Cost = 4.396557\n",
            "Location 8 assigned to cluster 11.  Cost = 3.195218\n",
            "Location 9 assigned to cluster 0.  Cost = 10.330018\n",
            "Location 10 assigned to cluster 3.  Cost = 3.422119\n",
            "\n",
            "Time =  14  milliseconds\n",
            "12\n",
            "Total cost =  38.15105103720996\n",
            "\n",
            "Location 0 assigned to cluster 0.  Cost = 6.151364\n",
            "Location 1 assigned to cluster 3.  Cost = 3.557816\n",
            "Location 2 assigned to cluster 8.  Cost = 9.434416\n",
            "Location 3 assigned to cluster 1.  Cost = 2.968793\n",
            "Location 4 assigned to cluster 5.  Cost = 3.492484\n",
            "Location 5 assigned to cluster 4.  Cost = 3.138995\n",
            "Location 6 assigned to cluster 10.  Cost = 2.574528\n",
            "Location 7 assigned to cluster 7.  Cost = 0.851080\n",
            "Location 8 assigned to cluster 11.  Cost = 1.688799\n",
            "Location 9 assigned to cluster 2.  Cost = 2.048596\n",
            "Location 10 assigned to cluster 9.  Cost = 2.244181\n",
            "\n",
            "Time =  9  milliseconds\n",
            "found optimal centroids, cost = 38.15105103720996\n",
            "12\n",
            "Total cost =  63.41515094855896\n",
            "\n",
            "Location 0 assigned to cluster 10.  Cost = 15.319916\n",
            "Location 1 assigned to cluster 3.  Cost = 3.195218\n",
            "Location 2 assigned to cluster 8.  Cost = 0.000000\n",
            "Location 3 assigned to cluster 1.  Cost = 4.643678\n",
            "Location 4 assigned to cluster 5.  Cost = 4.689336\n",
            "Location 5 assigned to cluster 4.  Cost = 11.928107\n",
            "Location 6 assigned to cluster 2.  Cost = 10.431797\n",
            "Location 7 assigned to cluster 9.  Cost = 2.303932\n",
            "Location 8 assigned to cluster 11.  Cost = 0.000000\n",
            "Location 9 assigned to cluster 0.  Cost = 10.330018\n",
            "Location 10 assigned to cluster 7.  Cost = 0.573149\n",
            "\n",
            "Time =  15  milliseconds\n",
            "12\n",
            "Total cost =  38.15105103720996\n",
            "\n",
            "Location 0 assigned to cluster 0.  Cost = 6.151364\n",
            "Location 1 assigned to cluster 3.  Cost = 3.557816\n",
            "Location 2 assigned to cluster 8.  Cost = 9.434416\n",
            "Location 3 assigned to cluster 1.  Cost = 2.968793\n",
            "Location 4 assigned to cluster 5.  Cost = 3.492484\n",
            "Location 5 assigned to cluster 4.  Cost = 3.138995\n",
            "Location 6 assigned to cluster 10.  Cost = 2.574528\n",
            "Location 7 assigned to cluster 7.  Cost = 0.851080\n",
            "Location 8 assigned to cluster 11.  Cost = 1.688799\n",
            "Location 9 assigned to cluster 2.  Cost = 2.048596\n",
            "Location 10 assigned to cluster 9.  Cost = 2.244181\n",
            "\n",
            "Time =  12  milliseconds\n",
            "found optimal centroids, cost = 38.15105103720996\n",
            "12\n",
            "Total cost =  62.830239396831104\n",
            "\n",
            "Location 0 assigned to cluster 3.  Cost = 15.319916\n",
            "Location 1 assigned to cluster 10.  Cost = 4.396557\n",
            "Location 2 assigned to cluster 5.  Cost = 0.000000\n",
            "Location 3 assigned to cluster 2.  Cost = 2.679375\n",
            "Location 4 assigned to cluster 6.  Cost = 2.641576\n",
            "Location 5 assigned to cluster 9.  Cost = 11.928107\n",
            "Location 6 assigned to cluster 11.  Cost = 10.431797\n",
            "Location 7 assigned to cluster 8.  Cost = 0.000000\n",
            "Location 8 assigned to cluster 0.  Cost = 2.303932\n",
            "Location 9 assigned to cluster 1.  Cost = 10.330018\n",
            "Location 10 assigned to cluster 4.  Cost = 2.798961\n",
            "\n",
            "Time =  14  milliseconds\n",
            "12\n",
            "Total cost =  38.15105103720996\n",
            "\n",
            "Location 0 assigned to cluster 0.  Cost = 3.557816\n",
            "Location 1 assigned to cluster 3.  Cost = 6.151364\n",
            "Location 2 assigned to cluster 5.  Cost = 9.434416\n",
            "Location 3 assigned to cluster 4.  Cost = 2.968793\n",
            "Location 4 assigned to cluster 6.  Cost = 3.492484\n",
            "Location 5 assigned to cluster 9.  Cost = 3.138995\n",
            "Location 6 assigned to cluster 11.  Cost = 2.574528\n",
            "Location 7 assigned to cluster 2.  Cost = 0.851080\n",
            "Location 8 assigned to cluster 8.  Cost = 1.688799\n",
            "Location 9 assigned to cluster 1.  Cost = 2.048596\n",
            "Location 10 assigned to cluster 10.  Cost = 2.244181\n",
            "\n",
            "Time =  12  milliseconds\n",
            "found optimal centroids, cost = 38.15105103720996\n",
            "12\n",
            "Total cost =  65.06290966484501\n",
            "\n",
            "Location 0 assigned to cluster 3.  Cost = 15.319916\n",
            "Location 1 assigned to cluster 10.  Cost = 3.422119\n",
            "Location 2 assigned to cluster 5.  Cost = 0.000000\n",
            "Location 3 assigned to cluster 4.  Cost = 5.208016\n",
            "Location 4 assigned to cluster 6.  Cost = 5.050826\n",
            "Location 5 assigned to cluster 9.  Cost = 11.928107\n",
            "Location 6 assigned to cluster 11.  Cost = 10.431797\n",
            "Location 7 assigned to cluster 2.  Cost = 2.798961\n",
            "Location 8 assigned to cluster 0.  Cost = 0.573149\n",
            "Location 9 assigned to cluster 1.  Cost = 10.330018\n",
            "Location 10 assigned to cluster 8.  Cost = 0.000000\n",
            "\n",
            "Time =  11  milliseconds\n",
            "12\n",
            "Total cost =  38.15105103720996\n",
            "\n",
            "Location 0 assigned to cluster 0.  Cost = 3.557816\n",
            "Location 1 assigned to cluster 3.  Cost = 6.151364\n",
            "Location 2 assigned to cluster 5.  Cost = 9.434416\n",
            "Location 3 assigned to cluster 4.  Cost = 2.968793\n",
            "Location 4 assigned to cluster 6.  Cost = 3.492484\n",
            "Location 5 assigned to cluster 9.  Cost = 3.138995\n",
            "Location 6 assigned to cluster 11.  Cost = 2.574528\n",
            "Location 7 assigned to cluster 2.  Cost = 0.851080\n",
            "Location 8 assigned to cluster 8.  Cost = 1.688799\n",
            "Location 9 assigned to cluster 1.  Cost = 2.048596\n",
            "Location 10 assigned to cluster 10.  Cost = 2.244181\n",
            "\n",
            "Time =  14  milliseconds\n",
            "found optimal centroids, cost = 38.15105103720996\n",
            "12\n",
            "Total cost =  44.58716488764891\n",
            "\n",
            "Location 0 assigned to cluster 0.  Cost = 6.525449\n",
            "Location 1 assigned to cluster 3.  Cost = 7.024185\n",
            "Location 2 assigned to cluster 8.  Cost = 10.330018\n",
            "Location 3 assigned to cluster 5.  Cost = 3.413679\n",
            "Location 4 assigned to cluster 1.  Cost = 0.000000\n",
            "Location 5 assigned to cluster 4.  Cost = 4.353484\n",
            "Location 6 assigned to cluster 10.  Cost = 0.558612\n",
            "Location 7 assigned to cluster 7.  Cost = 2.641576\n",
            "Location 8 assigned to cluster 11.  Cost = 4.689336\n",
            "Location 9 assigned to cluster 2.  Cost = 0.000000\n",
            "Location 10 assigned to cluster 9.  Cost = 5.050826\n",
            "\n",
            "Time =  10  milliseconds\n",
            "12\n",
            "Total cost =  38.15105103720996\n",
            "\n",
            "Location 0 assigned to cluster 0.  Cost = 6.151364\n",
            "Location 1 assigned to cluster 3.  Cost = 3.557816\n",
            "Location 2 assigned to cluster 8.  Cost = 9.434416\n",
            "Location 3 assigned to cluster 1.  Cost = 2.968793\n",
            "Location 4 assigned to cluster 5.  Cost = 3.492484\n",
            "Location 5 assigned to cluster 4.  Cost = 3.138995\n",
            "Location 6 assigned to cluster 10.  Cost = 2.574528\n",
            "Location 7 assigned to cluster 7.  Cost = 0.851080\n",
            "Location 8 assigned to cluster 11.  Cost = 1.688799\n",
            "Location 9 assigned to cluster 2.  Cost = 2.048596\n",
            "Location 10 assigned to cluster 9.  Cost = 2.244181\n",
            "\n",
            "Time =  11  milliseconds\n",
            "found optimal centroids, cost = 38.15105103720996\n"
          ],
          "name": "stdout"
        },
        {
          "output_type": "display_data",
          "data": {
            "image/png": "[encoded data removed]",
            "text/plain": [
              "<Figure size 2160x1080 with 1 Axes>"
            ]
          },
          "metadata": {
            "tags": [],
            "needs_background": "light"
          }
        }
      ]
    },
    {
      "cell_type": "markdown",
      "metadata": {
        "id": "iuCn0l3f8fO6"
      },
      "source": [
        "Regular kMeans"
      ]
    },
    {
      "cell_type": "code",
      "metadata": {
        "id": "PjshKYU3CB9I"
      },
      "source": [
        "# kmeans = KMeans(n_clusters=current_trip.duration, verbose=1).fit(df.loc[:, df.columns != 'Location'])\n",
        "# centroids = kmeans.cluster_centers_\n",
        "# print(centroids)\n",
        "# plt.scatter(df['Latitude'], df['Longitude'], c= kmeans.labels_.astype(float), s=50, alpha=0.5)\n",
        "# plt.scatter(centroids[:, 0], centroids[:, 1], c='red', s=50)\n",
        "# plt.show()"
      ],
      "execution_count": null,
      "outputs": []
    },
    {
      "cell_type": "code",
      "metadata": {
        "id": "SX-ekKORos5T"
      },
      "source": [
        "def generate_idx_to_loc_names_map(indices,locationNames,assignment,label):\n",
        "  print(indices)\n",
        "  idx_map = {}\n",
        "  for i in range(len(indices)):\n",
        "      print(i)\n",
        "      idx_map[i]= locationNames[indices[i]]\n",
        "  return idx_map"
      ],
      "execution_count": null,
      "outputs": []
    },
    {
      "cell_type": "code",
      "metadata": {
        "id": "Si-WzjOBssZ8"
      },
      "source": [
        "def generate_request_params(locationNames,indices):\n",
        "  locations_to_visit=[locationNames[i] for i in indices]\n",
        "  start_param = '|'.join(locations_to_visit)\n",
        "  dest_param = start_param\n",
        "  return start_param,dest_param"
      ],
      "execution_count": null,
      "outputs": []
    },
    {
      "cell_type": "code",
      "metadata": {
        "id": "uCjjcWWftPee"
      },
      "source": [
        "def get_location_distances(start_param,dest_param,api_key):\n",
        "  base_url ='https://maps.googleapis.com/maps/api/distancematrix/json?'\n",
        "  \n",
        "  r = requests.get(base_url+'units=imperial'+'&origins='+start_param+'&destinations='+dest_param+'&key='+api_key)                   \n",
        "  response = r.json()\n",
        "\n",
        "  return response"
      ],
      "execution_count": null,
      "outputs": []
    },
    {
      "cell_type": "code",
      "metadata": {
        "id": "UTUZUp0pt69f"
      },
      "source": [
        "def create_distance_matrix(response):\n",
        "  print(response)\n",
        "  num_locations = len(response['rows'])\n",
        "  M = np.zeros((num_locations,num_locations))\n",
        "  for row in range(M.shape[0]):\n",
        "    for col in range(M.shape[1]):\n",
        "      M[row,col] = response['rows'][row]['elements'][col]['duration']['value']\n",
        "  return M    "
      ],
      "execution_count": null,
      "outputs": []
    },
    {
      "cell_type": "code",
      "metadata": {
        "id": "M_sDpfYD6tSl",
        "outputId": "055fc26d-1973-41f1-f6f2-7750207696dc",
        "colab": {
          "base_uri": "https://localhost:8080/",
          "height": 428
        }
      },
      "source": [
        "dist_matrices=[]\n",
        "idx_maps = []\n",
        "api_key='DISTANCE_MATRIX_API_KEY'\n",
        "\n",
        "for label in np.unique(opt_assignment):\n",
        "  \n",
        "  indices = [i for i in range(len(opt_assignment)) if opt_assignment[i] == label]\n",
        "  idx_map = generate_idx_to_loc_names_map(indices,current_trip.all_loc_names,opt_assignment,label)\n",
        "  idx_maps.append(idx_map)\n",
        "\n",
        "  start_param,dest_param = generate_request_params(current_trip.all_loc_names,indices)\n",
        "  print('\\n')\n",
        "  print(start_param)\n",
        " \n",
        "  response = get_location_distances(start_param,dest_param,api_key)\n",
        "  print(response)\n",
        "  M = create_distance_matrix(response)\n",
        "  dist_matrices.append(M)\n",
        "\n",
        "  "
      ],
      "execution_count": null,
      "outputs": [
        {
          "output_type": "stream",
          "text": [
            "[0, 3, 4, 7, 8, 10]\n",
            "0\n",
            "1\n",
            "2\n",
            "3\n",
            "4\n",
            "5\n",
            "\n",
            "\n",
            "The Beverly Hills Hotel|Universal Studios Hollywood|Griffith Observatory, Los Angeles|Hollywood Walk of Fame|6333 W 3rd St, Los Angeles|Los Angeles County Museum of Art\n",
            "{'destination_addresses': ['9641 Sunset Blvd, Beverly Hills, CA 90210, USA', '100 Universal City Plaza, Universal City, CA 91608, USA', '2800 E Observatory Rd, Los Angeles, CA 90027, USA', 'Hollywood Boulevard, Vine St, Los Angeles, CA 90028, USA', '6333 W 3rd St, Los Angeles, CA 90036, USA', '5905 Wilshire Blvd, Los Angeles, CA 90036, USA'], 'origin_addresses': ['9641 Sunset Blvd, Beverly Hills, CA 90210, USA', '100 Universal City Plaza, Universal City, CA 91608, USA', '2800 E Observatory Rd, Los Angeles, CA 90027, USA', 'Hollywood Boulevard, Vine St, Los Angeles, CA 90028, USA', '6333 W 3rd St, Los Angeles, CA 90036, USA', '5905 Wilshire Blvd, Los Angeles, CA 90036, USA'], 'rows': [{'elements': [{'distance': {'text': '1 ft', 'value': 0}, 'duration': {'text': '1 min', 'value': 0}, 'status': 'OK'}, {'distance': {'text': '10.9 mi', 'value': 17577}, 'duration': {'text': '24 mins', 'value': 1426}, 'status': 'OK'}, {'distance': {'text': '19.5 mi', 'value': 31323}, 'duration': {'text': '38 mins', 'value': 2257}, 'status': 'OK'}, {'distance': {'text': '5.6 mi', 'value': 9036}, 'duration': {'text': '25 mins', 'value': 1504}, 'status': 'OK'}, {'distance': {'text': '3.7 mi', 'value': 5923}, 'duration': {'text': '16 mins', 'value': 966}, 'status': 'OK'}, {'distance': {'text': '3.6 mi', 'value': 5835}, 'duration': {'text': '15 mins', 'value': 910}, 'status': 'OK'}]}, {'elements': [{'distance': {'text': '10.9 mi', 'value': 17493}, 'duration': {'text': '24 mins', 'value': 1415}, 'status': 'OK'}, {'distance': {'text': '1 ft', 'value': 0}, 'duration': {'text': '1 min', 'value': 0}, 'status': 'OK'}, {'distance': {'text': '6.6 mi', 'value': 10547}, 'duration': {'text': '19 mins', 'value': 1168}, 'status': 'OK'}, {'distance': {'text': '3.0 mi', 'value': 4874}, 'duration': {'text': '7 mins', 'value': 406}, 'status': 'OK'}, {'distance': {'text': '6.4 mi', 'value': 10274}, 'duration': {'text': '22 mins', 'value': 1332}, 'status': 'OK'}, {'distance': {'text': '6.6 mi', 'value': 10557}, 'duration': {'text': '22 mins', 'value': 1331}, 'status': 'OK'}]}, {'elements': [{'distance': {'text': '9.6 mi', 'value': 15394}, 'duration': {'text': '36 mins', 'value': 2152}, 'status': 'OK'}, {'distance': {'text': '6.8 mi', 'value': 10950}, 'duration': {'text': '16 mins', 'value': 954}, 'status': 'OK'}, {'distance': {'text': '1 ft', 'value': 0}, 'duration': {'text': '1 min', 'value': 0}, 'status': 'OK'}, {'distance': {'text': '4.1 mi', 'value': 6582}, 'duration': {'text': '15 mins', 'value': 912}, 'status': 'OK'}, {'distance': {'text': '8.3 mi', 'value': 13428}, 'duration': {'text': '30 mins', 'value': 1792}, 'status': 'OK'}, {'distance': {'text': '8.5 mi', 'value': 13711}, 'duration': {'text': '30 mins', 'value': 1792}, 'status': 'OK'}]}, {'elements': [{'distance': {'text': '5.5 mi', 'value': 8866}, 'duration': {'text': '24 mins', 'value': 1411}, 'status': 'OK'}, {'distance': {'text': '3.1 mi', 'value': 4924}, 'duration': {'text': '6 mins', 'value': 364}, 'status': 'OK'}, {'distance': {'text': '3.9 mi', 'value': 6297}, 'duration': {'text': '16 mins', 'value': 970}, 'status': 'OK'}, {'distance': {'text': '1 ft', 'value': 0}, 'duration': {'text': '1 min', 'value': 0}, 'status': 'OK'}, {'distance': {'text': '4.2 mi', 'value': 6810}, 'duration': {'text': '17 mins', 'value': 1026}, 'status': 'OK'}, {'distance': {'text': '4.4 mi', 'value': 7093}, 'duration': {'text': '17 mins', 'value': 1026}, 'status': 'OK'}]}, {'elements': [{'distance': {'text': '3.7 mi', 'value': 5933}, 'duration': {'text': '16 mins', 'value': 930}, 'status': 'OK'}, {'distance': {'text': '6.2 mi', 'value': 9964}, 'duration': {'text': '21 mins', 'value': 1273}, 'status': 'OK'}, {'distance': {'text': '8.1 mi', 'value': 12974}, 'duration': {'text': '33 mins', 'value': 1965}, 'status': 'OK'}, {'distance': {'text': '4.2 mi', 'value': 6679}, 'duration': {'text': '18 mins', 'value': 1097}, 'status': 'OK'}, {'distance': {'text': '1 ft', 'value': 0}, 'duration': {'text': '1 min', 'value': 0}, 'status': 'OK'}, {'distance': {'text': '0.8 mi', 'value': 1278}, 'duration': {'text': '5 mins', 'value': 276}, 'status': 'OK'}]}, {'elements': [{'distance': {'text': '3.6 mi', 'value': 5853}, 'duration': {'text': '15 mins', 'value': 916}, 'status': 'OK'}, {'distance': {'text': '6.5 mi', 'value': 10395}, 'duration': {'text': '22 mins', 'value': 1330}, 'status': 'OK'}, {'distance': {'text': '8.4 mi', 'value': 13439}, 'duration': {'text': '32 mins', 'value': 1939}, 'status': 'OK'}, {'distance': {'text': '4.4 mi', 'value': 7036}, 'duration': {'text': '18 mins', 'value': 1097}, 'status': 'OK'}, {'distance': {'text': '0.8 mi', 'value': 1278}, 'duration': {'text': '6 mins', 'value': 338}, 'status': 'OK'}, {'distance': {'text': '1 ft', 'value': 0}, 'duration': {'text': '1 min', 'value': 0}, 'status': 'OK'}]}], 'status': 'OK'}\n",
            "{'destination_addresses': ['9641 Sunset Blvd, Beverly Hills, CA 90210, USA', '100 Universal City Plaza, Universal City, CA 91608, USA', '2800 E Observatory Rd, Los Angeles, CA 90027, USA', 'Hollywood Boulevard, Vine St, Los Angeles, CA 90028, USA', '6333 W 3rd St, Los Angeles, CA 90036, USA', '5905 Wilshire Blvd, Los Angeles, CA 90036, USA'], 'origin_addresses': ['9641 Sunset Blvd, Beverly Hills, CA 90210, USA', '100 Universal City Plaza, Universal City, CA 91608, USA', '2800 E Observatory Rd, Los Angeles, CA 90027, USA', 'Hollywood Boulevard, Vine St, Los Angeles, CA 90028, USA', '6333 W 3rd St, Los Angeles, CA 90036, USA', '5905 Wilshire Blvd, Los Angeles, CA 90036, USA'], 'rows': [{'elements': [{'distance': {'text': '1 ft', 'value': 0}, 'duration': {'text': '1 min', 'value': 0}, 'status': 'OK'}, {'distance': {'text': '10.9 mi', 'value': 17577}, 'duration': {'text': '24 mins', 'value': 1426}, 'status': 'OK'}, {'distance': {'text': '19.5 mi', 'value': 31323}, 'duration': {'text': '38 mins', 'value': 2257}, 'status': 'OK'}, {'distance': {'text': '5.6 mi', 'value': 9036}, 'duration': {'text': '25 mins', 'value': 1504}, 'status': 'OK'}, {'distance': {'text': '3.7 mi', 'value': 5923}, 'duration': {'text': '16 mins', 'value': 966}, 'status': 'OK'}, {'distance': {'text': '3.6 mi', 'value': 5835}, 'duration': {'text': '15 mins', 'value': 910}, 'status': 'OK'}]}, {'elements': [{'distance': {'text': '10.9 mi', 'value': 17493}, 'duration': {'text': '24 mins', 'value': 1415}, 'status': 'OK'}, {'distance': {'text': '1 ft', 'value': 0}, 'duration': {'text': '1 min', 'value': 0}, 'status': 'OK'}, {'distance': {'text': '6.6 mi', 'value': 10547}, 'duration': {'text': '19 mins', 'value': 1168}, 'status': 'OK'}, {'distance': {'text': '3.0 mi', 'value': 4874}, 'duration': {'text': '7 mins', 'value': 406}, 'status': 'OK'}, {'distance': {'text': '6.4 mi', 'value': 10274}, 'duration': {'text': '22 mins', 'value': 1332}, 'status': 'OK'}, {'distance': {'text': '6.6 mi', 'value': 10557}, 'duration': {'text': '22 mins', 'value': 1331}, 'status': 'OK'}]}, {'elements': [{'distance': {'text': '9.6 mi', 'value': 15394}, 'duration': {'text': '36 mins', 'value': 2152}, 'status': 'OK'}, {'distance': {'text': '6.8 mi', 'value': 10950}, 'duration': {'text': '16 mins', 'value': 954}, 'status': 'OK'}, {'distance': {'text': '1 ft', 'value': 0}, 'duration': {'text': '1 min', 'value': 0}, 'status': 'OK'}, {'distance': {'text': '4.1 mi', 'value': 6582}, 'duration': {'text': '15 mins', 'value': 912}, 'status': 'OK'}, {'distance': {'text': '8.3 mi', 'value': 13428}, 'duration': {'text': '30 mins', 'value': 1792}, 'status': 'OK'}, {'distance': {'text': '8.5 mi', 'value': 13711}, 'duration': {'text': '30 mins', 'value': 1792}, 'status': 'OK'}]}, {'elements': [{'distance': {'text': '5.5 mi', 'value': 8866}, 'duration': {'text': '24 mins', 'value': 1411}, 'status': 'OK'}, {'distance': {'text': '3.1 mi', 'value': 4924}, 'duration': {'text': '6 mins', 'value': 364}, 'status': 'OK'}, {'distance': {'text': '3.9 mi', 'value': 6297}, 'duration': {'text': '16 mins', 'value': 970}, 'status': 'OK'}, {'distance': {'text': '1 ft', 'value': 0}, 'duration': {'text': '1 min', 'value': 0}, 'status': 'OK'}, {'distance': {'text': '4.2 mi', 'value': 6810}, 'duration': {'text': '17 mins', 'value': 1026}, 'status': 'OK'}, {'distance': {'text': '4.4 mi', 'value': 7093}, 'duration': {'text': '17 mins', 'value': 1026}, 'status': 'OK'}]}, {'elements': [{'distance': {'text': '3.7 mi', 'value': 5933}, 'duration': {'text': '16 mins', 'value': 930}, 'status': 'OK'}, {'distance': {'text': '6.2 mi', 'value': 9964}, 'duration': {'text': '21 mins', 'value': 1273}, 'status': 'OK'}, {'distance': {'text': '8.1 mi', 'value': 12974}, 'duration': {'text': '33 mins', 'value': 1965}, 'status': 'OK'}, {'distance': {'text': '4.2 mi', 'value': 6679}, 'duration': {'text': '18 mins', 'value': 1097}, 'status': 'OK'}, {'distance': {'text': '1 ft', 'value': 0}, 'duration': {'text': '1 min', 'value': 0}, 'status': 'OK'}, {'distance': {'text': '0.8 mi', 'value': 1278}, 'duration': {'text': '5 mins', 'value': 276}, 'status': 'OK'}]}, {'elements': [{'distance': {'text': '3.6 mi', 'value': 5853}, 'duration': {'text': '15 mins', 'value': 916}, 'status': 'OK'}, {'distance': {'text': '6.5 mi', 'value': 10395}, 'duration': {'text': '22 mins', 'value': 1330}, 'status': 'OK'}, {'distance': {'text': '8.4 mi', 'value': 13439}, 'duration': {'text': '32 mins', 'value': 1939}, 'status': 'OK'}, {'distance': {'text': '4.4 mi', 'value': 7036}, 'duration': {'text': '18 mins', 'value': 1097}, 'status': 'OK'}, {'distance': {'text': '0.8 mi', 'value': 1278}, 'duration': {'text': '6 mins', 'value': 338}, 'status': 'OK'}, {'distance': {'text': '1 ft', 'value': 0}, 'duration': {'text': '1 min', 'value': 0}, 'status': 'OK'}]}], 'status': 'OK'}\n",
            "[1, 2, 5, 6, 9]\n",
            "0\n",
            "1\n",
            "2\n",
            "3\n",
            "4\n",
            "\n",
            "\n",
            "The Beverly Hills Hotel|Malibu Pier|The Getty, Los Angeles|Santa Monica Pier|1351 3rd Street Promenade, Santa Monica\n",
            "{'destination_addresses': ['9641 Sunset Blvd, Beverly Hills, CA 90210, USA', '23000 CA-1, Malibu, CA 90265, USA', '1200 Getty Center Dr, Los Angeles, CA 90049, USA', '200 Santa Monica Pier, Santa Monica, CA 90401, USA', '1351 3rd Street Promenade, Santa Monica, CA 90401, USA'], 'origin_addresses': ['9641 Sunset Blvd, Beverly Hills, CA 90210, USA', '23000 CA-1, Malibu, CA 90265, USA', '1200 Getty Center Dr, Los Angeles, CA 90049, USA', '200 Santa Monica Pier, Santa Monica, CA 90401, USA', '1351 3rd Street Promenade, Santa Monica, CA 90401, USA'], 'rows': [{'elements': [{'distance': {'text': '1 ft', 'value': 0}, 'duration': {'text': '1 min', 'value': 0}, 'status': 'OK'}, {'distance': {'text': '21.0 mi', 'value': 33791}, 'duration': {'text': '36 mins', 'value': 2154}, 'status': 'OK'}, {'distance': {'text': '5.5 mi', 'value': 8771}, 'duration': {'text': '14 mins', 'value': 852}, 'status': 'OK'}, {'distance': {'text': '9.9 mi', 'value': 15884}, 'duration': {'text': '23 mins', 'value': 1388}, 'status': 'OK'}, {'distance': {'text': '9.9 mi', 'value': 15887}, 'duration': {'text': '22 mins', 'value': 1317}, 'status': 'OK'}]}, {'elements': [{'distance': {'text': '20.8 mi', 'value': 33424}, 'duration': {'text': '35 mins', 'value': 2113}, 'status': 'OK'}, {'distance': {'text': '1 ft', 'value': 0}, 'duration': {'text': '1 min', 'value': 0}, 'status': 'OK'}, {'distance': {'text': '19.8 mi', 'value': 31918}, 'duration': {'text': '29 mins', 'value': 1718}, 'status': 'OK'}, {'distance': {'text': '11.6 mi', 'value': 18666}, 'duration': {'text': '21 mins', 'value': 1248}, 'status': 'OK'}, {'distance': {'text': '11.2 mi', 'value': 18074}, 'duration': {'text': '22 mins', 'value': 1290}, 'status': 'OK'}]}, {'elements': [{'distance': {'text': '6.0 mi', 'value': 9678}, 'duration': {'text': '16 mins', 'value': 955}, 'status': 'OK'}, {'distance': {'text': '21.0 mi', 'value': 33784}, 'duration': {'text': '30 mins', 'value': 1782}, 'status': 'OK'}, {'distance': {'text': '1 ft', 'value': 0}, 'duration': {'text': '1 min', 'value': 0}, 'status': 'OK'}, {'distance': {'text': '9.9 mi', 'value': 15877}, 'duration': {'text': '17 mins', 'value': 1016}, 'status': 'OK'}, {'distance': {'text': '9.9 mi', 'value': 15879}, 'duration': {'text': '16 mins', 'value': 945}, 'status': 'OK'}]}, {'elements': [{'distance': {'text': '9.7 mi', 'value': 15583}, 'duration': {'text': '22 mins', 'value': 1325}, 'status': 'OK'}, {'distance': {'text': '11.6 mi', 'value': 18624}, 'duration': {'text': '20 mins', 'value': 1229}, 'status': 'OK'}, {'distance': {'text': '8.7 mi', 'value': 14077}, 'duration': {'text': '15 mins', 'value': 929}, 'status': 'OK'}, {'distance': {'text': '1 ft', 'value': 0}, 'duration': {'text': '1 min', 'value': 0}, 'status': 'OK'}, {'distance': {'text': '0.5 mi', 'value': 873}, 'duration': {'text': '5 mins', 'value': 278}, 'status': 'OK'}]}, {'elements': [{'distance': {'text': '9.7 mi', 'value': 15546}, 'duration': {'text': '21 mins', 'value': 1283}, 'status': 'OK'}, {'distance': {'text': '11.2 mi', 'value': 18079}, 'duration': {'text': '21 mins', 'value': 1288}, 'status': 'OK'}, {'distance': {'text': '8.7 mi', 'value': 14039}, 'duration': {'text': '15 mins', 'value': 888}, 'status': 'OK'}, {'distance': {'text': '0.5 mi', 'value': 873}, 'duration': {'text': '5 mins', 'value': 280}, 'status': 'OK'}, {'distance': {'text': '1 ft', 'value': 0}, 'duration': {'text': '1 min', 'value': 0}, 'status': 'OK'}]}], 'status': 'OK'}\n",
            "{'destination_addresses': ['9641 Sunset Blvd, Beverly Hills, CA 90210, USA', '23000 CA-1, Malibu, CA 90265, USA', '1200 Getty Center Dr, Los Angeles, CA 90049, USA', '200 Santa Monica Pier, Santa Monica, CA 90401, USA', '1351 3rd Street Promenade, Santa Monica, CA 90401, USA'], 'origin_addresses': ['9641 Sunset Blvd, Beverly Hills, CA 90210, USA', '23000 CA-1, Malibu, CA 90265, USA', '1200 Getty Center Dr, Los Angeles, CA 90049, USA', '200 Santa Monica Pier, Santa Monica, CA 90401, USA', '1351 3rd Street Promenade, Santa Monica, CA 90401, USA'], 'rows': [{'elements': [{'distance': {'text': '1 ft', 'value': 0}, 'duration': {'text': '1 min', 'value': 0}, 'status': 'OK'}, {'distance': {'text': '21.0 mi', 'value': 33791}, 'duration': {'text': '36 mins', 'value': 2154}, 'status': 'OK'}, {'distance': {'text': '5.5 mi', 'value': 8771}, 'duration': {'text': '14 mins', 'value': 852}, 'status': 'OK'}, {'distance': {'text': '9.9 mi', 'value': 15884}, 'duration': {'text': '23 mins', 'value': 1388}, 'status': 'OK'}, {'distance': {'text': '9.9 mi', 'value': 15887}, 'duration': {'text': '22 mins', 'value': 1317}, 'status': 'OK'}]}, {'elements': [{'distance': {'text': '20.8 mi', 'value': 33424}, 'duration': {'text': '35 mins', 'value': 2113}, 'status': 'OK'}, {'distance': {'text': '1 ft', 'value': 0}, 'duration': {'text': '1 min', 'value': 0}, 'status': 'OK'}, {'distance': {'text': '19.8 mi', 'value': 31918}, 'duration': {'text': '29 mins', 'value': 1718}, 'status': 'OK'}, {'distance': {'text': '11.6 mi', 'value': 18666}, 'duration': {'text': '21 mins', 'value': 1248}, 'status': 'OK'}, {'distance': {'text': '11.2 mi', 'value': 18074}, 'duration': {'text': '22 mins', 'value': 1290}, 'status': 'OK'}]}, {'elements': [{'distance': {'text': '6.0 mi', 'value': 9678}, 'duration': {'text': '16 mins', 'value': 955}, 'status': 'OK'}, {'distance': {'text': '21.0 mi', 'value': 33784}, 'duration': {'text': '30 mins', 'value': 1782}, 'status': 'OK'}, {'distance': {'text': '1 ft', 'value': 0}, 'duration': {'text': '1 min', 'value': 0}, 'status': 'OK'}, {'distance': {'text': '9.9 mi', 'value': 15877}, 'duration': {'text': '17 mins', 'value': 1016}, 'status': 'OK'}, {'distance': {'text': '9.9 mi', 'value': 15879}, 'duration': {'text': '16 mins', 'value': 945}, 'status': 'OK'}]}, {'elements': [{'distance': {'text': '9.7 mi', 'value': 15583}, 'duration': {'text': '22 mins', 'value': 1325}, 'status': 'OK'}, {'distance': {'text': '11.6 mi', 'value': 18624}, 'duration': {'text': '20 mins', 'value': 1229}, 'status': 'OK'}, {'distance': {'text': '8.7 mi', 'value': 14077}, 'duration': {'text': '15 mins', 'value': 929}, 'status': 'OK'}, {'distance': {'text': '1 ft', 'value': 0}, 'duration': {'text': '1 min', 'value': 0}, 'status': 'OK'}, {'distance': {'text': '0.5 mi', 'value': 873}, 'duration': {'text': '5 mins', 'value': 278}, 'status': 'OK'}]}, {'elements': [{'distance': {'text': '9.7 mi', 'value': 15546}, 'duration': {'text': '21 mins', 'value': 1283}, 'status': 'OK'}, {'distance': {'text': '11.2 mi', 'value': 18079}, 'duration': {'text': '21 mins', 'value': 1288}, 'status': 'OK'}, {'distance': {'text': '8.7 mi', 'value': 14039}, 'duration': {'text': '15 mins', 'value': 888}, 'status': 'OK'}, {'distance': {'text': '0.5 mi', 'value': 873}, 'duration': {'text': '5 mins', 'value': 280}, 'status': 'OK'}, {'distance': {'text': '1 ft', 'value': 0}, 'duration': {'text': '1 min', 'value': 0}, 'status': 'OK'}]}], 'status': 'OK'}\n"
          ],
          "name": "stdout"
        }
      ]
    },
    {
      "cell_type": "code",
      "metadata": {
        "id": "SKvua99YcVaX"
      },
      "source": [
        "def distance_callback(from_index, to_index):\n",
        "    \"\"\"Returns the distance between the two nodes.\"\"\"\n",
        "    # Convert from routing variable Index to distance matrix NodeIndex.\n",
        "    from_node = manager.IndexToNode(from_index)\n",
        "    to_node = manager.IndexToNode(to_index)\n",
        "    return data['distance_matrix'][from_node][to_node]"
      ],
      "execution_count": null,
      "outputs": []
    },
    {
      "cell_type": "code",
      "metadata": {
        "id": "iSrO_hFzc7tU"
      },
      "source": [
        "def print_solution(manager, routing, solution):\n",
        "    \"\"\"Prints solution on console.\"\"\"\n",
        "    print('Objective: {} seconds'.format(solution.ObjectiveValue()))\n",
        "    index = routing.Start(0)\n",
        "    plan_output = 'Route for vehicle 0:\\n'\n",
        "    route_distance = 0\n",
        "    route = []\n",
        "    while not routing.IsEnd(index):\n",
        "        plan_output += ' {} ->'.format(manager.IndexToNode(index))\n",
        "        route.append(index)\n",
        "        previous_index = index\n",
        "        index = solution.Value(routing.NextVar(index))\n",
        "        route_distance += routing.GetArcCostForVehicle(previous_index, index, 0)\n",
        "    plan_output += ' {}\\n'.format(manager.IndexToNode(index))\n",
        "    route.append(manager.IndexToNode(index))\n",
        "    plan_output += 'Route distance: {} seconds\\n'.format(route_distance)\n",
        "    print(plan_output)\n",
        "    return route,route_distance"
      ],
      "execution_count": null,
      "outputs": []
    },
    {
      "cell_type": "code",
      "metadata": {
        "id": "F8CAO1Zba31I",
        "outputId": "fe7b4c18-69db-4cf1-c13c-eaa4ae282df4",
        "colab": {
          "base_uri": "https://localhost:8080/",
          "height": 496
        }
      },
      "source": [
        "data = {}\n",
        "data['num_vehicles'] = 1\n",
        "data['depot'] = 0\n",
        "routes = []\n",
        "route_names = []\n",
        "\n",
        "for i in range(len(dist_matrices)):\n",
        "  data['distance_matrix'] = dist_matrices[i]\n",
        "  manager = pywrapcp.RoutingIndexManager(len(data['distance_matrix']),\n",
        "                                        data['num_vehicles'], data['depot'])\n",
        "  routing = pywrapcp.RoutingModel(manager)\n",
        "  transit_callback_index = routing.RegisterTransitCallback(distance_callback)\n",
        "  routing.SetArcCostEvaluatorOfAllVehicles(transit_callback_index)\n",
        "  search_parameters = pywrapcp.DefaultRoutingSearchParameters()\n",
        "  search_parameters.first_solution_strategy = (\n",
        "      routing_enums_pb2.FirstSolutionStrategy.PATH_CHEAPEST_ARC)\n",
        "  solution = routing.SolveWithParameters(search_parameters)\n",
        "  if solution:\n",
        "      route,cost = print_solution(manager, routing, solution)\n",
        "      print(route)\n",
        "      print(idx_maps[i])\n",
        "      [print(idx_maps[i][j]) for j in route]\n",
        "      routes.append(route)\n",
        "      route_names.append([(idx_maps[i][j]) for j in route])"
      ],
      "execution_count": null,
      "outputs": [
        {
          "output_type": "stream",
          "text": [
            "Objective: 5678 seconds\n",
            "Route for vehicle 0:\n",
            " 0 -> 4 -> 5 -> 3 -> 2 -> 1 -> 0\n",
            "Route distance: 5678 seconds\n",
            "\n",
            "[0, 4, 5, 3, 2, 1, 0]\n",
            "{0: 'The Beverly Hills Hotel', 1: 'Universal Studios Hollywood', 2: 'Griffith Observatory, Los Angeles', 3: 'Hollywood Walk of Fame', 4: '6333 W 3rd St, Los Angeles', 5: 'Los Angeles County Museum of Art'}\n",
            "The Beverly Hills Hotel\n",
            "6333 W 3rd St, Los Angeles\n",
            "Los Angeles County Museum of Art\n",
            "Hollywood Walk of Fame\n",
            "Griffith Observatory, Los Angeles\n",
            "Universal Studios Hollywood\n",
            "The Beverly Hills Hotel\n",
            "Objective: 5419 seconds\n",
            "Route for vehicle 0:\n",
            " 0 -> 2 -> 4 -> 3 -> 1 -> 0\n",
            "Route distance: 5419 seconds\n",
            "\n",
            "[0, 2, 4, 3, 1, 0]\n",
            "{0: 'The Beverly Hills Hotel', 1: 'Malibu Pier', 2: 'The Getty, Los Angeles', 3: 'Santa Monica Pier', 4: '1351 3rd Street Promenade, Santa Monica'}\n",
            "The Beverly Hills Hotel\n",
            "The Getty, Los Angeles\n",
            "1351 3rd Street Promenade, Santa Monica\n",
            "Santa Monica Pier\n",
            "Malibu Pier\n",
            "The Beverly Hills Hotel\n"
          ],
          "name": "stdout"
        }
      ]
    },
    {
      "cell_type": "code",
      "metadata": {
        "id": "2XcOzkx2cwWP",
        "outputId": "a500d334-3cf5-4a84-90b8-74f09a9d885f",
        "colab": {
          "base_uri": "https://localhost:8080/",
          "height": 238
        }
      },
      "source": [
        "route_names"
      ],
      "execution_count": null,
      "outputs": [
        {
          "output_type": "execute_result",
          "data": {
            "text/plain": [
              "[['The Beverly Hills Hotel',\n",
              "  '6333 W 3rd St, Los Angeles',\n",
              "  'Los Angeles County Museum of Art',\n",
              "  'Hollywood Walk of Fame',\n",
              "  'Griffith Observatory, Los Angeles',\n",
              "  'Universal Studios Hollywood',\n",
              "  'The Beverly Hills Hotel'],\n",
              " ['The Beverly Hills Hotel',\n",
              "  'The Getty, Los Angeles',\n",
              "  '1351 3rd Street Promenade, Santa Monica',\n",
              "  'Santa Monica Pier',\n",
              "  'Malibu Pier',\n",
              "  'The Beverly Hills Hotel']]"
            ]
          },
          "metadata": {
            "tags": []
          },
          "execution_count": 53
        }
      ]
    },
    {
      "cell_type": "code",
      "metadata": {
        "id": "AtkGmtoSd-lo"
      },
      "source": [
        ""
      ],
      "execution_count": null,
      "outputs": []
    }
  ]
}